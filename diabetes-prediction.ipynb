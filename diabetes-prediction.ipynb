{
 "cells": [
  {
   "cell_type": "code",
   "execution_count": 1,
   "metadata": {
    "id": "XZvq7d7pRbML",
    "ExecuteTime": {
     "end_time": "2024-06-03T09:01:43.397778Z",
     "start_time": "2024-06-03T09:01:42.530769Z"
    }
   },
   "outputs": [],
   "source": [
    "from sklearn.datasets import load_diabetes\n",
    "from sklearn import tree\n",
    "from sklearn import linear_model\n",
    "from sklearn.model_selection import train_test_split\n",
    "from sklearn.metrics import r2_score"
   ]
  },
  {
   "cell_type": "markdown",
   "metadata": {
    "id": "DZ6wxmcyRbMM"
   },
   "source": [
    "# Изучение датасета"
   ]
  },
  {
   "cell_type": "markdown",
   "source": [
    "Будем использовать стандартный набор данных, содержащий информацию о пациентах с диабетом, который предоставляется в библиотеке `Sklearn`."
   ],
   "metadata": {
    "collapsed": false
   }
  },
  {
   "cell_type": "code",
   "execution_count": 2,
   "metadata": {
    "id": "DYqQ0qgLRbMM",
    "outputId": "12637d78-0a2b-4f2b-848d-da08be6e576c",
    "ExecuteTime": {
     "end_time": "2024-06-03T09:01:43.409107Z",
     "start_time": "2024-06-03T09:01:43.398786Z"
    }
   },
   "outputs": [
    {
     "name": "stdout",
     "output_type": "stream",
     "text": [
      ".. _diabetes_dataset:\n",
      "\n",
      "Diabetes dataset\n",
      "----------------\n",
      "\n",
      "Ten baseline variables, age, sex, body mass index, average blood\n",
      "pressure, and six blood serum measurements were obtained for each of n =\n",
      "442 diabetes patients, as well as the response of interest, a\n",
      "quantitative measure of disease progression one year after baseline.\n",
      "\n",
      "**Data Set Characteristics:**\n",
      "\n",
      ":Number of Instances: 442\n",
      "\n",
      ":Number of Attributes: First 10 columns are numeric predictive values\n",
      "\n",
      ":Target: Column 11 is a quantitative measure of disease progression one year after baseline\n",
      "\n",
      ":Attribute Information:\n",
      "    - age     age in years\n",
      "    - sex\n",
      "    - bmi     body mass index\n",
      "    - bp      average blood pressure\n",
      "    - s1      tc, total serum cholesterol\n",
      "    - s2      ldl, low-density lipoproteins\n",
      "    - s3      hdl, high-density lipoproteins\n",
      "    - s4      tch, total cholesterol / HDL\n",
      "    - s5      ltg, possibly log of serum triglycerides level\n",
      "    - s6      glu, blood sugar level\n",
      "\n",
      "Note: Each of these 10 feature variables have been mean centered and scaled by the standard deviation times the square root of `n_samples` (i.e. the sum of squares of each column totals 1).\n",
      "\n",
      "Source URL:\n",
      "https://www4.stat.ncsu.edu/~boos/var.select/diabetes.html\n",
      "\n",
      "For more information see:\n",
      "Bradley Efron, Trevor Hastie, Iain Johnstone and Robert Tibshirani (2004) \"Least Angle Regression,\" Annals of Statistics (with discussion), 407-499.\n",
      "(https://web.stanford.edu/~hastie/Papers/LARS/LeastAngle_2002.pdf)\n"
     ]
    }
   ],
   "source": [
    "print(load_diabetes().DESCR)"
   ]
  },
  {
   "cell_type": "markdown",
   "metadata": {
    "id": "B6c4pcS9RbMN"
   },
   "source": [
    "Датасет состоит из `442` строк и `11` столбцов:\n",
    "- `age` (возраст пациента);\n",
    "- `sex` (пол пациента);\n",
    "- `bmi` (индекс массы тела);\n",
    "- `bp` (среднее артериальное давление);\n",
    "- `s1` - `s6` (шесть измерений сыворотки крови);\n",
    "- `target` (целевой признак, количественная мера прогрессирования заболевания через год после исходного уровня)."
   ]
  },
  {
   "cell_type": "code",
   "execution_count": 3,
   "metadata": {
    "id": "zEk8uZx8RbMN",
    "outputId": "9ad1e437-2178-4a7c-cb3c-d6516b1c6e1d",
    "ExecuteTime": {
     "end_time": "2024-06-03T09:01:43.733072Z",
     "start_time": "2024-06-03T09:01:43.410115Z"
    }
   },
   "outputs": [
    {
     "data": {
      "text/plain": "          age       sex       bmi        bp        s1        s2        s3  \\\n207  0.009016 -0.044642  0.045529  0.028758  0.012191 -0.013840  0.026550   \n334 -0.060003  0.050680 -0.047163 -0.022885 -0.071743 -0.057681 -0.006584   \n317  0.019913 -0.044642 -0.034229  0.055165  0.067229  0.074155 -0.006584   \n9   -0.070900 -0.044642  0.039062 -0.033213 -0.012577 -0.034508 -0.024993   \n412  0.074401 -0.044642  0.085408  0.063187  0.014942  0.013091  0.015505   \n\n           s4        s5        s6  target  \n207 -0.039493  0.046133  0.036201   202.0  \n334 -0.039493 -0.062917 -0.054925    72.0  \n317  0.032833  0.024730  0.069338   190.0  \n9   -0.002592  0.067737 -0.013504   310.0  \n412 -0.002592  0.006207  0.085907   261.0  ",
      "text/html": "<div>\n<style scoped>\n    .dataframe tbody tr th:only-of-type {\n        vertical-align: middle;\n    }\n\n    .dataframe tbody tr th {\n        vertical-align: top;\n    }\n\n    .dataframe thead th {\n        text-align: right;\n    }\n</style>\n<table border=\"1\" class=\"dataframe\">\n  <thead>\n    <tr style=\"text-align: right;\">\n      <th></th>\n      <th>age</th>\n      <th>sex</th>\n      <th>bmi</th>\n      <th>bp</th>\n      <th>s1</th>\n      <th>s2</th>\n      <th>s3</th>\n      <th>s4</th>\n      <th>s5</th>\n      <th>s6</th>\n      <th>target</th>\n    </tr>\n  </thead>\n  <tbody>\n    <tr>\n      <th>207</th>\n      <td>0.009016</td>\n      <td>-0.044642</td>\n      <td>0.045529</td>\n      <td>0.028758</td>\n      <td>0.012191</td>\n      <td>-0.013840</td>\n      <td>0.026550</td>\n      <td>-0.039493</td>\n      <td>0.046133</td>\n      <td>0.036201</td>\n      <td>202.0</td>\n    </tr>\n    <tr>\n      <th>334</th>\n      <td>-0.060003</td>\n      <td>0.050680</td>\n      <td>-0.047163</td>\n      <td>-0.022885</td>\n      <td>-0.071743</td>\n      <td>-0.057681</td>\n      <td>-0.006584</td>\n      <td>-0.039493</td>\n      <td>-0.062917</td>\n      <td>-0.054925</td>\n      <td>72.0</td>\n    </tr>\n    <tr>\n      <th>317</th>\n      <td>0.019913</td>\n      <td>-0.044642</td>\n      <td>-0.034229</td>\n      <td>0.055165</td>\n      <td>0.067229</td>\n      <td>0.074155</td>\n      <td>-0.006584</td>\n      <td>0.032833</td>\n      <td>0.024730</td>\n      <td>0.069338</td>\n      <td>190.0</td>\n    </tr>\n    <tr>\n      <th>9</th>\n      <td>-0.070900</td>\n      <td>-0.044642</td>\n      <td>0.039062</td>\n      <td>-0.033213</td>\n      <td>-0.012577</td>\n      <td>-0.034508</td>\n      <td>-0.024993</td>\n      <td>-0.002592</td>\n      <td>0.067737</td>\n      <td>-0.013504</td>\n      <td>310.0</td>\n    </tr>\n    <tr>\n      <th>412</th>\n      <td>0.074401</td>\n      <td>-0.044642</td>\n      <td>0.085408</td>\n      <td>0.063187</td>\n      <td>0.014942</td>\n      <td>0.013091</td>\n      <td>0.015505</td>\n      <td>-0.002592</td>\n      <td>0.006207</td>\n      <td>0.085907</td>\n      <td>261.0</td>\n    </tr>\n  </tbody>\n</table>\n</div>"
     },
     "execution_count": 3,
     "metadata": {},
     "output_type": "execute_result"
    }
   ],
   "source": [
    "df = load_diabetes(as_frame=True).frame\n",
    "\n",
    "df.sample(5)"
   ]
  },
  {
   "cell_type": "markdown",
   "metadata": {
    "id": "HU3WYUXVRbMO"
   },
   "source": [
    "Столбцы содержат значения, которые могут показаться необычными. Например, в столбцах `age` и `sex` используются вещественные числа вместо ожидаемых целочисленных значений или категорий. Вероятно, такое преобразование и выбор необычных значений были сделаны с целью анонимизации данных и защиты конфиденциальности пациентов."
   ]
  },
  {
   "cell_type": "markdown",
   "metadata": {
    "id": "4c-HudZ1RbMO"
   },
   "source": [
    "# Подготовка данных для обучения модели"
   ]
  },
  {
   "cell_type": "markdown",
   "metadata": {
    "id": "J8RBdMEXRbMO"
   },
   "source": [
    "Отделим целевой признак от датасета."
   ]
  },
  {
   "cell_type": "code",
   "execution_count": 4,
   "metadata": {
    "id": "GCgVilNARbMP",
    "outputId": "7672c374-b158-48df-dff7-c2abccd4c5f7",
    "ExecuteTime": {
     "end_time": "2024-06-03T09:01:43.737847Z",
     "start_time": "2024-06-03T09:01:43.733072Z"
    }
   },
   "outputs": [
    {
     "name": "stdout",
     "output_type": "stream",
     "text": [
      "(442, 10)\n",
      "(442,)\n"
     ]
    }
   ],
   "source": [
    "features = df.drop('target', axis=1)\n",
    "\n",
    "target = df.target\n",
    "\n",
    "print(features.shape)\n",
    "print(target.shape)"
   ]
  },
  {
   "cell_type": "markdown",
   "metadata": {
    "id": "qDe4Ym2ERbMP"
   },
   "source": [
    "Разделим датасет на тренировочную и валидационную части."
   ]
  },
  {
   "cell_type": "code",
   "execution_count": 5,
   "metadata": {
    "id": "qMbQA-dtRbMP",
    "ExecuteTime": {
     "end_time": "2024-06-03T09:01:43.744047Z",
     "start_time": "2024-06-03T09:01:43.739857Z"
    }
   },
   "outputs": [],
   "source": [
    "features_train, features_val, target_train, target_val = train_test_split(features, target, random_state=5)"
   ]
  },
  {
   "cell_type": "code",
   "outputs": [
    {
     "name": "stdout",
     "output_type": "stream",
     "text": [
      "Размер тренировочной выборки: (331, 10)\n",
      "Размер валидационной выборки: (111, 10)\n"
     ]
    }
   ],
   "source": [
    "print(f'Размер тренировочной выборки: {features_train.shape}')\n",
    "print(f'Размер валидационной выборки: {features_val.shape}')"
   ],
   "metadata": {
    "collapsed": false,
    "ExecuteTime": {
     "end_time": "2024-06-03T09:01:43.748478Z",
     "start_time": "2024-06-03T09:01:43.744047Z"
    }
   },
   "execution_count": 6
  },
  {
   "cell_type": "markdown",
   "metadata": {
    "id": "ii8m1x-qRbMQ"
   },
   "source": [
    "# Обучение модели дерева решений и оценка ее качества"
   ]
  },
  {
   "cell_type": "markdown",
   "metadata": {
    "id": "-8GxJ4jnRbMQ"
   },
   "source": [
    "Будем решать задачу регрессии, так как целевая переменная `target` представляет собой числовую величину."
   ]
  },
  {
   "cell_type": "markdown",
   "metadata": {
    "id": "CJ2ZnW18RbMQ"
   },
   "source": [
    "Попробуем применить дерево решений для решения задачи регрессии."
   ]
  },
  {
   "cell_type": "code",
   "execution_count": 7,
   "metadata": {
    "id": "-bh6KyU4RbMQ",
    "ExecuteTime": {
     "end_time": "2024-06-03T09:01:43.760034Z",
     "start_time": "2024-06-03T09:01:43.749494Z"
    }
   },
   "outputs": [],
   "source": [
    "model = tree.DecisionTreeRegressor()\n",
    "\n",
    "model.fit(features_train, target_train)\n",
    "\n",
    "predictions_val = model.predict(features_val)"
   ]
  },
  {
   "cell_type": "markdown",
   "metadata": {
    "id": "YbLMO-SkRbMQ"
   },
   "source": [
    "Для оценки адекватности выбранной модели будем использовать метрику `R2` (коэффициент детерминации), которая сравнивает модель с простой моделью, где все целевые значения в обучающей выборке являются средними."
   ]
  },
  {
   "cell_type": "code",
   "execution_count": 8,
   "metadata": {
    "id": "vqUKKyYeRbMQ",
    "outputId": "7d31e4a8-965a-4164-fb29-90715200535e",
    "ExecuteTime": {
     "end_time": "2024-06-03T09:01:43.764911Z",
     "start_time": "2024-06-03T09:01:43.761045Z"
    }
   },
   "outputs": [
    {
     "name": "stdout",
     "output_type": "stream",
     "text": [
      "Коэффициент детерминации: -0.13038615149756927\n"
     ]
    }
   ],
   "source": [
    "print(f'Коэффициент детерминации: {r2_score(target_val, predictions_val)}')"
   ]
  },
  {
   "cell_type": "markdown",
   "metadata": {
    "id": "MrieWOt2RbMR"
   },
   "source": [
    "Коэффициент детерминации имеет отрицательное значение, что свидетельствует о крайне низком качестве модели. Фактически, такая модель показывает худшие результаты, чем простая модель."
   ]
  },
  {
   "cell_type": "markdown",
   "metadata": {
    "id": "mmV76bTCRbMR"
   },
   "source": [
    "# Обучение модели линейной регрессии и оценка ее качества"
   ]
  },
  {
   "cell_type": "markdown",
   "metadata": {
    "id": "s20VnM04RbMR"
   },
   "source": [
    "Попробуем линейную регрессию."
   ]
  },
  {
   "cell_type": "code",
   "execution_count": 9,
   "metadata": {
    "id": "L3M09T0vRbMR",
    "ExecuteTime": {
     "end_time": "2024-06-03T09:01:43.774193Z",
     "start_time": "2024-06-03T09:01:43.765914Z"
    }
   },
   "outputs": [],
   "source": [
    "model = linear_model.LinearRegression()\n",
    "\n",
    "model.fit(features_train, target_train)\n",
    "\n",
    "predictions_val = model.predict(features_val)"
   ]
  },
  {
   "cell_type": "markdown",
   "metadata": {
    "id": "1De7rIgzRbMR"
   },
   "source": [
    "Оценим адекватность модели."
   ]
  },
  {
   "cell_type": "code",
   "execution_count": 10,
   "metadata": {
    "id": "fNmBtP3TRbMR",
    "outputId": "3e97a973-7ecd-484b-9e5f-6ffd2451c2fc",
    "ExecuteTime": {
     "end_time": "2024-06-03T09:01:43.779048Z",
     "start_time": "2024-06-03T09:01:43.775207Z"
    }
   },
   "outputs": [
    {
     "name": "stdout",
     "output_type": "stream",
     "text": [
      "Коэффициент детерминации: 0.5308133103536823\n"
     ]
    }
   ],
   "source": [
    "print(f'Коэффициент детерминации: {r2_score(target_val, predictions_val)}')"
   ]
  },
  {
   "cell_type": "markdown",
   "metadata": {
    "id": "7j9tseQVRbMS"
   },
   "source": [
    "Линейная регрессия демонстрирует достойные результаты. Положительное значение метрики `R2` свидетельствует о том, что модель превосходит простую модель, которая была обучена на средних значениях."
   ]
  },
  {
   "cell_type": "markdown",
   "metadata": {
    "id": "4Tr4PKsHRbMS"
   },
   "source": [
    "# Вывод"
   ]
  },
  {
   "cell_type": "markdown",
   "metadata": {
    "id": "YcmEZvu7RbMS"
   },
   "source": [
    "В ходе работы была изучена документация `scikit-learn` и проведена подготовка данных для обучения двух моделей машинного обучения — дерева решений и линейной регрессии. После этого был проведен сравнительный анализ результатов обеих моделей. Результаты этого анализа показали, что линейная регрессия превзошла дерево решений и продемонстрировала лучшие результаты."
   ]
  },
  {
   "cell_type": "code",
   "outputs": [],
   "source": [],
   "metadata": {
    "collapsed": false,
    "ExecuteTime": {
     "end_time": "2024-06-03T09:01:43.782564Z",
     "start_time": "2024-06-03T09:01:43.780056Z"
    }
   },
   "execution_count": 10
  }
 ],
 "metadata": {
  "kernelspec": {
   "display_name": "Python 3",
   "language": "python",
   "name": "python3"
  },
  "language_info": {
   "codemirror_mode": {
    "name": "ipython",
    "version": 3
   },
   "file_extension": ".py",
   "mimetype": "text/x-python",
   "name": "python",
   "nbconvert_exporter": "python",
   "pygments_lexer": "ipython3",
   "version": "3.11.4"
  },
  "orig_nbformat": 4,
  "colab": {
   "provenance": []
  }
 },
 "nbformat": 4,
 "nbformat_minor": 0
}
